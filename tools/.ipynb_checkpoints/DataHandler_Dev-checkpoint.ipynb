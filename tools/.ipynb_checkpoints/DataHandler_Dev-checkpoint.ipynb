{
 "cells": [
  {
   "cell_type": "markdown",
   "metadata": {},
   "source": [
    "# E T **L**"
   ]
  },
  {
   "cell_type": "markdown",
   "metadata": {},
   "source": [
    "### Version 1.0"
   ]
  },
  {
   "cell_type": "markdown",
   "metadata": {},
   "source": [
    "---"
   ]
  },
  {
   "cell_type": "markdown",
   "metadata": {},
   "source": [
    "### Imports"
   ]
  },
  {
   "cell_type": "code",
   "execution_count": 1,
   "metadata": {},
   "outputs": [],
   "source": [
    "import pandas as pd\n",
    "import numpy as np\n",
    "import os\n",
    "from sqlalchemy import create_engine\n",
    "try:\n",
    "    import _pickle as pickle # for serialization, _pickle == cPickle (faster than pickle)\n",
    "except:\n",
    "    import pickle # alternative"
   ]
  },
  {
   "cell_type": "markdown",
   "metadata": {},
   "source": [
    "### Dev"
   ]
  },
  {
   "cell_type": "code",
   "execution_count": 8,
   "metadata": {},
   "outputs": [],
   "source": [
    "class DataHandler:\n",
    "    \n",
    "    def __init__(self, dbname='DataFrames'):\n",
    "        try:\n",
    "            self.engine = create_engine('sqlite:///..//data/cleaned/{}.db'.format(dbname))\n",
    "        except:\n",
    "            pass\n",
    "    \n",
    "    \n",
    "    # Database\n",
    "    def save_to_db(self, df, symbol, engine, index=False, if_exists='replace'):\n",
    "        try:\n",
    "            # save the dataframe as a table in the DataFrames.db\n",
    "            df.to_sql(symbol, self.engine, index=index, if_exists=if_exists)\n",
    "        except:\n",
    "            raise Exception(\"No Connection to Database available.\")\n",
    "    \n",
    "    def load_from_db(self, symbol):\n",
    "        try:\n",
    "            return pd.read_sql_table(symbol, con=self.engine)\n",
    "        except:\n",
    "            raise Exception(\"No Connection to Database available.\")\n",
    "    \n",
    "    \n",
    "    # Machine Learning Format\n",
    "    def save_to_npz(self, X, y, symbol, path=''):\n",
    "        # save the arrays\n",
    "        if path == '':\n",
    "            path = '../data/ml_format/{}.npz'.format(symbol)\n",
    "        else:\n",
    "            path = os.join(path, '{}.npz'.format(symbol))\n",
    "        np.savez(path, X=X, y=y)\n",
    "\n",
    "        \n",
    "    def load_from_npz(self, symbol, path=''):\n",
    "        if path == '':\n",
    "            path = '../data/ml_format/{}.npz'.format(symbol)\n",
    "        else:\n",
    "            path = os.join(path, '{}.npz'.format(symbol))\n",
    "        try:\n",
    "            with np.load(path) as data:\n",
    "                X = data['X']\n",
    "                y = data['y']\n",
    "            return X, y\n",
    "        except:\n",
    "            raise Exception(\"Can't load from path {}.\".path)\n",
    "       \n",
    "    \n",
    "    def serialize(self, path='serialized_tool_objects/datahandler.p'):\n",
    "        with open(path, 'wb') as file:\n",
    "            pickle.dump(preparer.scalers, file)\n",
    "    \n",
    "    \n",
    "    def initialize(self, path='serialized_tool_objects/datahandler.p'):\n",
    "        with open(path, 'rb') as file:\n",
    "            self.scalers = pickle.load(file)\n",
    "            \n",
    "            \n",
    "    def __repr__(self):\n",
    "        return 'DataHandler({})'.format(self.dbname)"
   ]
  },
  {
   "cell_type": "markdown",
   "metadata": {},
   "source": [
    "### Test"
   ]
  },
  {
   "cell_type": "code",
   "execution_count": 9,
   "metadata": {},
   "outputs": [],
   "source": [
    "data_handler = DataHandler()"
   ]
  },
  {
   "cell_type": "code",
   "execution_count": 13,
   "metadata": {},
   "outputs": [
    {
     "data": {
      "text/html": [
       "<div>\n",
       "<style>\n",
       "    .dataframe thead tr:only-child th {\n",
       "        text-align: right;\n",
       "    }\n",
       "\n",
       "    .dataframe thead th {\n",
       "        text-align: left;\n",
       "    }\n",
       "\n",
       "    .dataframe tbody tr th {\n",
       "        vertical-align: top;\n",
       "    }\n",
       "</style>\n",
       "<table border=\"1\" class=\"dataframe\">\n",
       "  <thead>\n",
       "    <tr style=\"text-align: right;\">\n",
       "      <th></th>\n",
       "      <th>Open</th>\n",
       "      <th>High</th>\n",
       "      <th>Low</th>\n",
       "      <th>Close</th>\n",
       "      <th>Volume</th>\n",
       "      <th>Ex-Dividend</th>\n",
       "      <th>Split_Ratio</th>\n",
       "      <th>Adj._Open</th>\n",
       "      <th>Adj._High</th>\n",
       "      <th>Adj._Low</th>\n",
       "      <th>Adj._Close</th>\n",
       "      <th>Adj._Volume</th>\n",
       "      <th>Year</th>\n",
       "      <th>Month</th>\n",
       "      <th>Day</th>\n",
       "      <th>Adj._Close_next</th>\n",
       "    </tr>\n",
       "  </thead>\n",
       "  <tbody>\n",
       "    <tr>\n",
       "      <th>0</th>\n",
       "      <td>28.75</td>\n",
       "      <td>28.87</td>\n",
       "      <td>28.75</td>\n",
       "      <td>28.75</td>\n",
       "      <td>2093900.0</td>\n",
       "      <td>0.0</td>\n",
       "      <td>1.0</td>\n",
       "      <td>0.422706</td>\n",
       "      <td>0.424470</td>\n",
       "      <td>0.422706</td>\n",
       "      <td>0.422706</td>\n",
       "      <td>117258400.0</td>\n",
       "      <td>1980</td>\n",
       "      <td>12</td>\n",
       "      <td>12</td>\n",
       "      <td>0.400652</td>\n",
       "    </tr>\n",
       "    <tr>\n",
       "      <th>1</th>\n",
       "      <td>27.38</td>\n",
       "      <td>27.38</td>\n",
       "      <td>27.25</td>\n",
       "      <td>27.25</td>\n",
       "      <td>785200.0</td>\n",
       "      <td>0.0</td>\n",
       "      <td>1.0</td>\n",
       "      <td>0.402563</td>\n",
       "      <td>0.402563</td>\n",
       "      <td>0.400652</td>\n",
       "      <td>0.400652</td>\n",
       "      <td>43971200.0</td>\n",
       "      <td>1980</td>\n",
       "      <td>12</td>\n",
       "      <td>15</td>\n",
       "      <td>0.371246</td>\n",
       "    </tr>\n",
       "    <tr>\n",
       "      <th>2</th>\n",
       "      <td>25.37</td>\n",
       "      <td>25.37</td>\n",
       "      <td>25.25</td>\n",
       "      <td>25.25</td>\n",
       "      <td>472000.0</td>\n",
       "      <td>0.0</td>\n",
       "      <td>1.0</td>\n",
       "      <td>0.373010</td>\n",
       "      <td>0.373010</td>\n",
       "      <td>0.371246</td>\n",
       "      <td>0.371246</td>\n",
       "      <td>26432000.0</td>\n",
       "      <td>1980</td>\n",
       "      <td>12</td>\n",
       "      <td>16</td>\n",
       "      <td>0.380362</td>\n",
       "    </tr>\n",
       "    <tr>\n",
       "      <th>3</th>\n",
       "      <td>25.87</td>\n",
       "      <td>26.00</td>\n",
       "      <td>25.87</td>\n",
       "      <td>25.87</td>\n",
       "      <td>385900.0</td>\n",
       "      <td>0.0</td>\n",
       "      <td>1.0</td>\n",
       "      <td>0.380362</td>\n",
       "      <td>0.382273</td>\n",
       "      <td>0.380362</td>\n",
       "      <td>0.380362</td>\n",
       "      <td>21610400.0</td>\n",
       "      <td>1980</td>\n",
       "      <td>12</td>\n",
       "      <td>17</td>\n",
       "      <td>0.391536</td>\n",
       "    </tr>\n",
       "    <tr>\n",
       "      <th>4</th>\n",
       "      <td>26.63</td>\n",
       "      <td>26.75</td>\n",
       "      <td>26.63</td>\n",
       "      <td>26.63</td>\n",
       "      <td>327900.0</td>\n",
       "      <td>0.0</td>\n",
       "      <td>1.0</td>\n",
       "      <td>0.391536</td>\n",
       "      <td>0.393300</td>\n",
       "      <td>0.391536</td>\n",
       "      <td>0.391536</td>\n",
       "      <td>18362400.0</td>\n",
       "      <td>1980</td>\n",
       "      <td>12</td>\n",
       "      <td>18</td>\n",
       "      <td>0.415355</td>\n",
       "    </tr>\n",
       "  </tbody>\n",
       "</table>\n",
       "</div>"
      ],
      "text/plain": [
       "    Open   High    Low  Close     Volume  Ex-Dividend  Split_Ratio  Adj._Open  \\\n",
       "0  28.75  28.87  28.75  28.75  2093900.0          0.0          1.0   0.422706   \n",
       "1  27.38  27.38  27.25  27.25   785200.0          0.0          1.0   0.402563   \n",
       "2  25.37  25.37  25.25  25.25   472000.0          0.0          1.0   0.373010   \n",
       "3  25.87  26.00  25.87  25.87   385900.0          0.0          1.0   0.380362   \n",
       "4  26.63  26.75  26.63  26.63   327900.0          0.0          1.0   0.391536   \n",
       "\n",
       "   Adj._High  Adj._Low  Adj._Close  Adj._Volume  Year  Month  Day  \\\n",
       "0   0.424470  0.422706    0.422706  117258400.0  1980     12   12   \n",
       "1   0.402563  0.400652    0.400652   43971200.0  1980     12   15   \n",
       "2   0.373010  0.371246    0.371246   26432000.0  1980     12   16   \n",
       "3   0.382273  0.380362    0.380362   21610400.0  1980     12   17   \n",
       "4   0.393300  0.391536    0.391536   18362400.0  1980     12   18   \n",
       "\n",
       "   Adj._Close_next  \n",
       "0         0.400652  \n",
       "1         0.371246  \n",
       "2         0.380362  \n",
       "3         0.391536  \n",
       "4         0.415355  "
      ]
     },
     "execution_count": 13,
     "metadata": {},
     "output_type": "execute_result"
    }
   ],
   "source": [
    "df = data_handler.load_from_db('AAPL')\n",
    "df.head()"
   ]
  },
  {
   "cell_type": "code",
   "execution_count": 16,
   "metadata": {},
   "outputs": [
    {
     "name": "stdout",
     "output_type": "stream",
     "text": [
      "[[-0.536193   -0.53993819 -0.53157229 ... -1.77172831  1.59228433\n",
      "  -0.428005  ]\n",
      " [-0.54632859 -0.5508706  -0.54278073 ... -1.77172831  1.59228433\n",
      "  -0.08489768]\n",
      " [-0.56119906 -0.56561836 -0.55772531 ... -1.77172831  1.59228433\n",
      "   0.02947143]\n",
      " ...\n",
      " [ 0.50880872  0.51522323  0.51342778 ...  1.7591928  -1.02087964\n",
      "   0.71568608]\n",
      " [ 0.49689755  0.49497258  0.48607919 ...  1.7591928  -1.02087964\n",
      "   0.83005519]\n",
      " [ 0.49453011  0.51830485  0.49728763 ...  1.7591928  -1.02087964\n",
      "   1.17316252]] [  0.40065169   0.37124607   0.38036181 ... 164.94       172.77\n",
      " 168.34      ]\n"
     ]
    }
   ],
   "source": [
    "X, y = data_handler.load_from_npz('AAPL')\n",
    "print(X, y)"
   ]
  }
 ],
 "metadata": {
  "kernelspec": {
   "display_name": "Python 3",
   "language": "python",
   "name": "python3"
  },
  "language_info": {
   "codemirror_mode": {
    "name": "ipython",
    "version": 3
   },
   "file_extension": ".py",
   "mimetype": "text/x-python",
   "name": "python",
   "nbconvert_exporter": "python",
   "pygments_lexer": "ipython3",
   "version": "3.6.3"
  }
 },
 "nbformat": 4,
 "nbformat_minor": 2
}
