{
 "cells": [
  {
   "cell_type": "markdown",
   "metadata": {},
   "source": [
    "# E T **L**"
   ]
  },
  {
   "cell_type": "markdown",
   "metadata": {},
   "source": [
    "### Version 1.0"
   ]
  },
  {
   "cell_type": "markdown",
   "metadata": {},
   "source": [
    "---"
   ]
  },
  {
   "cell_type": "markdown",
   "metadata": {},
   "source": [
    "### Imports"
   ]
  },
  {
   "cell_type": "code",
   "execution_count": 1,
   "metadata": {},
   "outputs": [],
   "source": [
    "import pandas as pd\n",
    "import numpy as np\n",
    "import os\n",
    "from sqlalchemy import create_engine\n",
    "try:\n",
    "    import _pickle as pickle # for serialization, _pickle == cPickle (faster than pickle)\n",
    "except:\n",
    "    import pickle # alternative"
   ]
  },
  {
   "cell_type": "markdown",
   "metadata": {},
   "source": [
    "### Dev"
   ]
  },
  {
   "cell_type": "code",
   "execution_count": 2,
   "metadata": {},
   "outputs": [],
   "source": [
    "class DataHandler:\n",
    "    \n",
    "    def __init__(self, dbname='DataFrames'):\n",
    "        try:\n",
    "            self.dbname = dbname\n",
    "            self.engine = create_engine('sqlite:///..//data/cleaned/{}.db'.format(self.dbname))\n",
    "            self.symbols = []\n",
    "        except:\n",
    "            pass\n",
    "    \n",
    "    \n",
    "    # Database\n",
    "    def save_to_db(self, df, symbol, index=False, if_exists='replace'):\n",
    "        if symbol not in self.symbols:\n",
    "            self.symbols.append(symbol)\n",
    "            \n",
    "        try:\n",
    "            # save the dataframe as a table in the DataFrames.db\n",
    "            df.to_sql(symbol, self.engine, index=index, if_exists=if_exists)\n",
    "        except:\n",
    "            raise Exception(\"No Connection to Database available.\")\n",
    "    \n",
    "    def load_from_db(self, symbol):\n",
    "        try:\n",
    "            return pd.read_sql_table(symbol, con=self.engine)\n",
    "        except:\n",
    "            raise Exception(\"No Connection to Database available.\")\n",
    "    \n",
    "    \n",
    "    # Machine Learning Format\n",
    "    def save_to_npz(self, X, y, symbol, save_dir=''):\n",
    "        if symbol not in self.symbols:\n",
    "            self.symbols.append(symbol)\n",
    "            \n",
    "        # save the arrays\n",
    "        if save_dir == '':\n",
    "            path = '../data/ml_format/{}.npz'.format(symbol)\n",
    "        else:\n",
    "            path = save_dir + '/{}.npz'.format(symbol)\n",
    "        np.savez(path, X=X, y=y)\n",
    "\n",
    "        \n",
    "    def load_from_npz(self, symbol, path=''):\n",
    "        if path == '':\n",
    "            path = '../data/ml_format/{}.npz'.format(symbol)\n",
    "        else:\n",
    "            path = path + '/{}.npz'.format(symbol)\n",
    "        try:\n",
    "            with np.load(path) as data:\n",
    "                X = data['X']\n",
    "                y = data['y']\n",
    "            return X, y\n",
    "        except:\n",
    "            raise Exception(\"Can't load from path {}.\".path)\n",
    "       \n",
    "    \n",
    "    def serialize(self, path='serialized_tool_objects/datahandler.p'):\n",
    "        with open(path, 'wb') as file:\n",
    "            pickle.dump([self.dbname, self.symbols], file)\n",
    "    \n",
    "    \n",
    "    def initialize(self, path='serialized_tool_objects/datahandler.p'):\n",
    "        with open(path, 'rb') as file:\n",
    "            self.dbname, self.symbols = pickle.load(file)\n",
    "            self.engine = create_engine('sqlite:///..//data/cleaned/{}.db'.format(self.dbname))\n",
    "            \n",
    "   \n",
    "    def get_symbols(self, data_dir='../data/raw'):\n",
    "        if self.symbols is None:\n",
    "            symbols = []\n",
    "            for file in os.listdir(data_dir):\n",
    "                if file.endswith(\".csv\"):\n",
    "                    print(file)\n",
    "        else:\n",
    "            return self.symbols\n",
    "\n",
    "            \n",
    "    def __repr__(self):\n",
    "        return \"DataHandler('{}')\".format(self.dbname)"
   ]
  },
  {
   "cell_type": "markdown",
   "metadata": {},
   "source": [
    "### Test"
   ]
  },
  {
   "cell_type": "code",
   "execution_count": 3,
   "metadata": {},
   "outputs": [],
   "source": [
    "data_handler = DataHandler()"
   ]
  },
  {
   "cell_type": "code",
   "execution_count": 6,
   "metadata": {},
   "outputs": [
    {
     "ename": "Exception",
     "evalue": "No Connection to Database available.",
     "output_type": "error",
     "traceback": [
      "\u001b[1;31m---------------------------------------------------------------------------\u001b[0m",
      "\u001b[1;31mInvalidRequestError\u001b[0m                       Traceback (most recent call last)",
      "\u001b[1;32m~\\Anaconda3\\lib\\site-packages\\pandas\\io\\sql.py\u001b[0m in \u001b[0;36mread_sql_table\u001b[1;34m(table_name, con, schema, index_col, coerce_float, parse_dates, columns, chunksize)\u001b[0m\n\u001b[0;32m    257\u001b[0m     \u001b[1;32mtry\u001b[0m\u001b[1;33m:\u001b[0m\u001b[1;33m\u001b[0m\u001b[0m\n\u001b[1;32m--> 258\u001b[1;33m         \u001b[0mmeta\u001b[0m\u001b[1;33m.\u001b[0m\u001b[0mreflect\u001b[0m\u001b[1;33m(\u001b[0m\u001b[0monly\u001b[0m\u001b[1;33m=\u001b[0m\u001b[1;33m[\u001b[0m\u001b[0mtable_name\u001b[0m\u001b[1;33m]\u001b[0m\u001b[1;33m,\u001b[0m \u001b[0mviews\u001b[0m\u001b[1;33m=\u001b[0m\u001b[1;32mTrue\u001b[0m\u001b[1;33m)\u001b[0m\u001b[1;33m\u001b[0m\u001b[0m\n\u001b[0m\u001b[0;32m    259\u001b[0m     \u001b[1;32mexcept\u001b[0m \u001b[0msqlalchemy\u001b[0m\u001b[1;33m.\u001b[0m\u001b[0mexc\u001b[0m\u001b[1;33m.\u001b[0m\u001b[0mInvalidRequestError\u001b[0m\u001b[1;33m:\u001b[0m\u001b[1;33m\u001b[0m\u001b[0m\n",
      "\u001b[1;32m~\\Anaconda3\\lib\\site-packages\\sqlalchemy\\sql\\schema.py\u001b[0m in \u001b[0;36mreflect\u001b[1;34m(self, bind, schema, views, only, extend_existing, autoload_replace, **dialect_kwargs)\u001b[0m\n\u001b[0;32m   3903\u001b[0m                         \u001b[1;34m'in %r%s: (%s)'\u001b[0m \u001b[1;33m%\u001b[0m\u001b[1;33m\u001b[0m\u001b[0m\n\u001b[1;32m-> 3904\u001b[1;33m                         (bind.engine, s, ', '.join(missing)))\n\u001b[0m\u001b[0;32m   3905\u001b[0m                 load = [name for name in only if extend_existing or\n",
      "\u001b[1;31mInvalidRequestError\u001b[0m: Could not reflect: requested table(s) not available in Engine(sqlite:///..//data/cleaned/DataFrames.db): (A)",
      "\nDuring handling of the above exception, another exception occurred:\n",
      "\u001b[1;31mValueError\u001b[0m                                Traceback (most recent call last)",
      "\u001b[1;32m<ipython-input-2-b8a3ad53e33e>\u001b[0m in \u001b[0;36mload_from_db\u001b[1;34m(self, symbol)\u001b[0m\n\u001b[0;32m     24\u001b[0m         \u001b[1;32mtry\u001b[0m\u001b[1;33m:\u001b[0m\u001b[1;33m\u001b[0m\u001b[0m\n\u001b[1;32m---> 25\u001b[1;33m             \u001b[1;32mreturn\u001b[0m \u001b[0mpd\u001b[0m\u001b[1;33m.\u001b[0m\u001b[0mread_sql_table\u001b[0m\u001b[1;33m(\u001b[0m\u001b[0msymbol\u001b[0m\u001b[1;33m,\u001b[0m \u001b[0mcon\u001b[0m\u001b[1;33m=\u001b[0m\u001b[0mself\u001b[0m\u001b[1;33m.\u001b[0m\u001b[0mengine\u001b[0m\u001b[1;33m)\u001b[0m\u001b[1;33m\u001b[0m\u001b[0m\n\u001b[0m\u001b[0;32m     26\u001b[0m         \u001b[1;32mexcept\u001b[0m\u001b[1;33m:\u001b[0m\u001b[1;33m\u001b[0m\u001b[0m\n",
      "\u001b[1;32m~\\Anaconda3\\lib\\site-packages\\pandas\\io\\sql.py\u001b[0m in \u001b[0;36mread_sql_table\u001b[1;34m(table_name, con, schema, index_col, coerce_float, parse_dates, columns, chunksize)\u001b[0m\n\u001b[0;32m    259\u001b[0m     \u001b[1;32mexcept\u001b[0m \u001b[0msqlalchemy\u001b[0m\u001b[1;33m.\u001b[0m\u001b[0mexc\u001b[0m\u001b[1;33m.\u001b[0m\u001b[0mInvalidRequestError\u001b[0m\u001b[1;33m:\u001b[0m\u001b[1;33m\u001b[0m\u001b[0m\n\u001b[1;32m--> 260\u001b[1;33m         \u001b[1;32mraise\u001b[0m \u001b[0mValueError\u001b[0m\u001b[1;33m(\u001b[0m\u001b[1;34m\"Table %s not found\"\u001b[0m \u001b[1;33m%\u001b[0m \u001b[0mtable_name\u001b[0m\u001b[1;33m)\u001b[0m\u001b[1;33m\u001b[0m\u001b[0m\n\u001b[0m\u001b[0;32m    261\u001b[0m \u001b[1;33m\u001b[0m\u001b[0m\n",
      "\u001b[1;31mValueError\u001b[0m: Table A not found",
      "\nDuring handling of the above exception, another exception occurred:\n",
      "\u001b[1;31mException\u001b[0m                                 Traceback (most recent call last)",
      "\u001b[1;32m<ipython-input-6-a4b041b7ada6>\u001b[0m in \u001b[0;36m<module>\u001b[1;34m()\u001b[0m\n\u001b[1;32m----> 1\u001b[1;33m \u001b[0mdf\u001b[0m \u001b[1;33m=\u001b[0m \u001b[0mdata_handler\u001b[0m\u001b[1;33m.\u001b[0m\u001b[0mload_from_db\u001b[0m\u001b[1;33m(\u001b[0m\u001b[1;34m'A'\u001b[0m\u001b[1;33m)\u001b[0m\u001b[1;33m\u001b[0m\u001b[0m\n\u001b[0m\u001b[0;32m      2\u001b[0m \u001b[0mdf\u001b[0m\u001b[1;33m.\u001b[0m\u001b[0mhead\u001b[0m\u001b[1;33m(\u001b[0m\u001b[1;33m)\u001b[0m\u001b[1;33m\u001b[0m\u001b[0m\n",
      "\u001b[1;32m<ipython-input-2-b8a3ad53e33e>\u001b[0m in \u001b[0;36mload_from_db\u001b[1;34m(self, symbol)\u001b[0m\n\u001b[0;32m     25\u001b[0m             \u001b[1;32mreturn\u001b[0m \u001b[0mpd\u001b[0m\u001b[1;33m.\u001b[0m\u001b[0mread_sql_table\u001b[0m\u001b[1;33m(\u001b[0m\u001b[0msymbol\u001b[0m\u001b[1;33m,\u001b[0m \u001b[0mcon\u001b[0m\u001b[1;33m=\u001b[0m\u001b[0mself\u001b[0m\u001b[1;33m.\u001b[0m\u001b[0mengine\u001b[0m\u001b[1;33m)\u001b[0m\u001b[1;33m\u001b[0m\u001b[0m\n\u001b[0;32m     26\u001b[0m         \u001b[1;32mexcept\u001b[0m\u001b[1;33m:\u001b[0m\u001b[1;33m\u001b[0m\u001b[0m\n\u001b[1;32m---> 27\u001b[1;33m             \u001b[1;32mraise\u001b[0m \u001b[0mException\u001b[0m\u001b[1;33m(\u001b[0m\u001b[1;34m\"No Connection to Database available.\"\u001b[0m\u001b[1;33m)\u001b[0m\u001b[1;33m\u001b[0m\u001b[0m\n\u001b[0m\u001b[0;32m     28\u001b[0m \u001b[1;33m\u001b[0m\u001b[0m\n\u001b[0;32m     29\u001b[0m \u001b[1;33m\u001b[0m\u001b[0m\n",
      "\u001b[1;31mException\u001b[0m: No Connection to Database available."
     ]
    }
   ],
   "source": [
    "df = data_handler.load_from_db('A')\n",
    "df.head()"
   ]
  },
  {
   "cell_type": "code",
   "execution_count": 16,
   "metadata": {},
   "outputs": [
    {
     "name": "stdout",
     "output_type": "stream",
     "text": [
      "[[-0.536193   -0.53993819 -0.53157229 ... -1.77172831  1.59228433\n",
      "  -0.428005  ]\n",
      " [-0.54632859 -0.5508706  -0.54278073 ... -1.77172831  1.59228433\n",
      "  -0.08489768]\n",
      " [-0.56119906 -0.56561836 -0.55772531 ... -1.77172831  1.59228433\n",
      "   0.02947143]\n",
      " ...\n",
      " [ 0.50880872  0.51522323  0.51342778 ...  1.7591928  -1.02087964\n",
      "   0.71568608]\n",
      " [ 0.49689755  0.49497258  0.48607919 ...  1.7591928  -1.02087964\n",
      "   0.83005519]\n",
      " [ 0.49453011  0.51830485  0.49728763 ...  1.7591928  -1.02087964\n",
      "   1.17316252]] [  0.40065169   0.37124607   0.38036181 ... 164.94       172.77\n",
      " 168.34      ]\n"
     ]
    }
   ],
   "source": [
    "X, y = data_handler.load_from_npz('AAPL')\n",
    "print(X, y)"
   ]
  }
 ],
 "metadata": {
  "kernelspec": {
   "display_name": "Python 3",
   "language": "python",
   "name": "python3"
  },
  "language_info": {
   "codemirror_mode": {
    "name": "ipython",
    "version": 3
   },
   "file_extension": ".py",
   "mimetype": "text/x-python",
   "name": "python",
   "nbconvert_exporter": "python",
   "pygments_lexer": "ipython3",
   "version": "3.6.3"
  }
 },
 "nbformat": 4,
 "nbformat_minor": 2
}
