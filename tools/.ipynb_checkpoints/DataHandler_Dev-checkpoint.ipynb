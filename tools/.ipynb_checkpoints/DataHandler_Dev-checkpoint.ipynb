{
 "cells": [
  {
   "cell_type": "markdown",
   "metadata": {},
   "source": [
    "# E T **L**"
   ]
  },
  {
   "cell_type": "markdown",
   "metadata": {},
   "source": [
    "### Version 1.0"
   ]
  },
  {
   "cell_type": "code",
   "execution_count": 1,
   "metadata": {},
   "outputs": [],
   "source": [
    "import pandas as pd\n",
    "import numpy as np\n",
    "import os\n",
    "from sqlalchemy import create_engine"
   ]
  },
  {
   "cell_type": "code",
   "execution_count": 8,
   "metadata": {},
   "outputs": [],
   "source": [
    "class DataHandler:\n",
    "    \n",
    "    def __init__(self, dbname='DataFrames'):\n",
    "        try:\n",
    "            self.engine = create_engine('sqlite:///..//data/cleaned/{}.db'.format(dbname))\n",
    "        except:\n",
    "            pass\n",
    "    \n",
    "    # Database\n",
    "    def save_to_db(self, df, symbol, engine, index=False, if_exists='replace'):\n",
    "        try:\n",
    "            # save the dataframe as a table in the DataFrames.db\n",
    "            df.to_sql(symbol, self.engine, index=index, if_exists=if_exists)\n",
    "        except:\n",
    "            raise Exception(\"No Connection to Database available.\")\n",
    "    \n",
    "    def load_from_db(self, symbol):\n",
    "        try:\n",
    "            return pd.read_sql_table(symbol, con=self.engine)\n",
    "        except:\n",
    "            raise Exception(\"No Connection to Database available.\")\n",
    "    \n",
    "    # Machine Learning Format\n",
    "    def save_to_npz(self, X, y, symbol, path=''):\n",
    "        # save the arrays\n",
    "        if path == '':\n",
    "            path = '../data/ml_format/{}.npz'.format(symbol)\n",
    "        else:\n",
    "            path = os.join(path, '{}.npz'.format(symbol))\n",
    "        np.savez(path, X=X, y=y)\n",
    "\n",
    "    def load_from_npz(self, symbol, path=''):\n",
    "        if path == '':\n",
    "            path = '../data/ml_format/{}.npz'.format(symbol)\n",
    "        else:\n",
    "            path = os.join(path, '{}.npz'.format(symbol))\n",
    "        try:\n",
    "            with np.load(path) as data:\n",
    "                X = data['X']\n",
    "                y = data['y']\n",
    "            return X, y\n",
    "        except:\n",
    "            raise Exception(\"Can't load from path {}.\".path)"
   ]
  },
  {
   "cell_type": "code",
   "execution_count": 9,
   "metadata": {},
   "outputs": [],
   "source": [
    "data_handler = DataHandler()"
   ]
  }
 ],
 "metadata": {
  "kernelspec": {
   "display_name": "Python 3",
   "language": "python",
   "name": "python3"
  },
  "language_info": {
   "codemirror_mode": {
    "name": "ipython",
    "version": 3
   },
   "file_extension": ".py",
   "mimetype": "text/x-python",
   "name": "python",
   "nbconvert_exporter": "python",
   "pygments_lexer": "ipython3",
   "version": "3.6.3"
  }
 },
 "nbformat": 4,
 "nbformat_minor": 2
}
