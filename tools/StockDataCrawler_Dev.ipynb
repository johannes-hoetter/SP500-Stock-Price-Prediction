{
 "cells": [
  {
   "cell_type": "markdown",
   "metadata": {},
   "source": [
    "# **E** T L"
   ]
  },
  {
   "cell_type": "markdown",
   "metadata": {},
   "source": [
    "### Version 1.0"
   ]
  },
  {
   "cell_type": "markdown",
   "metadata": {},
   "source": [
    "Resource:  \n",
    "https://medium.com/python-data/how-to-scrape-information-of-s-p-500-listed-companies-with-python-8205f895ee7a  \n",
    "https://stackoverflow.com/questions/17615475/open-url-silently-in-python-or-similar  "
   ]
  },
  {
   "cell_type": "markdown",
   "metadata": {},
   "source": [
    "---"
   ]
  },
  {
   "cell_type": "markdown",
   "metadata": {},
   "source": [
    "### Imports"
   ]
  },
  {
   "cell_type": "code",
   "execution_count": 1,
   "metadata": {},
   "outputs": [],
   "source": [
    "import pandas as pd\n",
    "import urllib.request\n",
    "import requests\n",
    "import os\n",
    "from tqdm import tqdm\n",
    "try:\n",
    "    import _pickle as pickle # for serialization, _pickle == cPickle (faster than pickle)\n",
    "except:\n",
    "    import pickle # alternative"
   ]
  },
  {
   "cell_type": "markdown",
   "metadata": {},
   "source": [
    "### Precondition"
   ]
  },
  {
   "cell_type": "code",
   "execution_count": 2,
   "metadata": {},
   "outputs": [],
   "source": [
    "def convert_first_row_as_header(df):\n",
    "    df.columns = df.iloc[0]\n",
    "    df.drop(0, axis=0, inplace=True)"
   ]
  },
  {
   "cell_type": "code",
   "execution_count": 3,
   "metadata": {},
   "outputs": [],
   "source": [
    "data = pd.read_html('https://en.wikipedia.org/wiki/List_of_S%26P_500_companies')[0]\n",
    "convert_first_row_as_header(data)"
   ]
  },
  {
   "cell_type": "code",
   "execution_count": 4,
   "metadata": {},
   "outputs": [
    {
     "data": {
      "text/html": [
       "<div>\n",
       "<style>\n",
       "    .dataframe thead tr:only-child th {\n",
       "        text-align: right;\n",
       "    }\n",
       "\n",
       "    .dataframe thead th {\n",
       "        text-align: left;\n",
       "    }\n",
       "\n",
       "    .dataframe tbody tr th {\n",
       "        vertical-align: top;\n",
       "    }\n",
       "</style>\n",
       "<table border=\"1\" class=\"dataframe\">\n",
       "  <thead>\n",
       "    <tr style=\"text-align: right;\">\n",
       "      <th></th>\n",
       "      <th>Symbol</th>\n",
       "      <th>Security</th>\n",
       "      <th>SEC filings</th>\n",
       "      <th>GICS Sector</th>\n",
       "      <th>GICS Sub Industry</th>\n",
       "      <th>Location</th>\n",
       "      <th>Date first added[3][4]</th>\n",
       "      <th>CIK</th>\n",
       "      <th>Founded</th>\n",
       "      <th>nan</th>\n",
       "    </tr>\n",
       "  </thead>\n",
       "  <tbody>\n",
       "    <tr>\n",
       "      <th>1</th>\n",
       "      <td>MMM</td>\n",
       "      <td>3M Company</td>\n",
       "      <td>reports</td>\n",
       "      <td>Industrials</td>\n",
       "      <td>Industrial Conglomerates</td>\n",
       "      <td>St. Paul, Minnesota</td>\n",
       "      <td>NaN</td>\n",
       "      <td>0000066740</td>\n",
       "      <td>1902</td>\n",
       "      <td>NaN</td>\n",
       "    </tr>\n",
       "    <tr>\n",
       "      <th>2</th>\n",
       "      <td>ABT</td>\n",
       "      <td>Abbott Laboratories</td>\n",
       "      <td>reports</td>\n",
       "      <td>Health Care</td>\n",
       "      <td>Health Care Equipment</td>\n",
       "      <td>North Chicago, Illinois</td>\n",
       "      <td>1964-03-31</td>\n",
       "      <td>0000001800</td>\n",
       "      <td>1888</td>\n",
       "      <td>NaN</td>\n",
       "    </tr>\n",
       "    <tr>\n",
       "      <th>3</th>\n",
       "      <td>ABBV</td>\n",
       "      <td>AbbVie Inc.</td>\n",
       "      <td>reports</td>\n",
       "      <td>Health Care</td>\n",
       "      <td>Pharmaceuticals</td>\n",
       "      <td>North Chicago, Illinois</td>\n",
       "      <td>2012-12-31</td>\n",
       "      <td>0001551152</td>\n",
       "      <td>2013 (1888)</td>\n",
       "      <td>NaN</td>\n",
       "    </tr>\n",
       "    <tr>\n",
       "      <th>4</th>\n",
       "      <td>ABMD</td>\n",
       "      <td>ABIOMED Inc</td>\n",
       "      <td>reports</td>\n",
       "      <td>Health Care</td>\n",
       "      <td>Health Care Equipment</td>\n",
       "      <td>Danvers, Massachusetts</td>\n",
       "      <td>2018-05-31</td>\n",
       "      <td>0000815094</td>\n",
       "      <td>1981</td>\n",
       "      <td>NaN</td>\n",
       "    </tr>\n",
       "    <tr>\n",
       "      <th>5</th>\n",
       "      <td>ACN</td>\n",
       "      <td>Accenture plc</td>\n",
       "      <td>reports</td>\n",
       "      <td>Information Technology</td>\n",
       "      <td>IT Consulting &amp; Other Services</td>\n",
       "      <td>Dublin, Ireland</td>\n",
       "      <td>2011-07-06</td>\n",
       "      <td>0001467373</td>\n",
       "      <td>1989</td>\n",
       "      <td>NaN</td>\n",
       "    </tr>\n",
       "  </tbody>\n",
       "</table>\n",
       "</div>"
      ],
      "text/plain": [
       "0 Symbol             Security SEC filings             GICS Sector  \\\n",
       "1    MMM           3M Company     reports             Industrials   \n",
       "2    ABT  Abbott Laboratories     reports             Health Care   \n",
       "3   ABBV          AbbVie Inc.     reports             Health Care   \n",
       "4   ABMD          ABIOMED Inc     reports             Health Care   \n",
       "5    ACN        Accenture plc     reports  Information Technology   \n",
       "\n",
       "0               GICS Sub Industry                 Location  \\\n",
       "1        Industrial Conglomerates      St. Paul, Minnesota   \n",
       "2           Health Care Equipment  North Chicago, Illinois   \n",
       "3                 Pharmaceuticals  North Chicago, Illinois   \n",
       "4           Health Care Equipment   Danvers, Massachusetts   \n",
       "5  IT Consulting & Other Services          Dublin, Ireland   \n",
       "\n",
       "0 Date first added[3][4]         CIK      Founded  NaN  \n",
       "1                    NaN  0000066740         1902  NaN  \n",
       "2             1964-03-31  0000001800         1888  NaN  \n",
       "3             2012-12-31  0001551152  2013 (1888)  NaN  \n",
       "4             2018-05-31  0000815094         1981  NaN  \n",
       "5             2011-07-06  0001467373         1989  NaN  "
      ]
     },
     "execution_count": 4,
     "metadata": {},
     "output_type": "execute_result"
    }
   ],
   "source": [
    "data.head()"
   ]
  },
  {
   "cell_type": "markdown",
   "metadata": {},
   "source": [
    "### Dev"
   ]
  },
  {
   "cell_type": "code",
   "execution_count": 8,
   "metadata": {},
   "outputs": [],
   "source": [
    "class StockDataCrawler():\n",
    "    \n",
    "    def __init__(self, df):\n",
    "        self.df = df\n",
    "        self.dl_dir = None\n",
    "        \n",
    "        \n",
    "    def download_data(self, directory='../data/raw'):\n",
    "        self.dl_dir = directory\n",
    "        print(\"Downloading Data from Quandl API...\")\n",
    "        for symbol in tqdm(self.df['Symbol']):\n",
    "            csv_path = os.path.join(self.dl_dir, '{}.csv'.format(symbol))\n",
    "            url = \"https://www.quandl.com/api/v3/datasets/WIKI/{}.csv\".format(symbol)\n",
    "            try:\n",
    "                download = requests.get(url)\n",
    "                csv_text = download.content.decode(\"utf-8\")\n",
    "                with open(csv_path,'w') as csv_f:\n",
    "                    csv_f.write(download.content.decode(\"utf-8\") ) \n",
    "            except:\n",
    "                continue\n",
    "                \n",
    "    \n",
    "    def serialize(self, path='serialized_tool_objects/stockdatacrawler.p'):\n",
    "        with open(path, 'wb') as file:\n",
    "            pickle.dump(preparer.scalers, file)\n",
    "    \n",
    "    \n",
    "    def initialize(self, path='serialized_tool_objects/stockdatacrawler.p'):\n",
    "        with open(path, 'rb') as file:\n",
    "            self.scalers = pickle.load(file)\n",
    "    \n",
    "    def __repr__(self):\n",
    "        return 'StockDataCrawler(data)'"
   ]
  },
  {
   "cell_type": "markdown",
   "metadata": {},
   "source": [
    "### Test"
   ]
  },
  {
   "cell_type": "code",
   "execution_count": 9,
   "metadata": {},
   "outputs": [],
   "source": [
    "crawler = StockDataCrawler(data)"
   ]
  },
  {
   "cell_type": "code",
   "execution_count": null,
   "metadata": {},
   "outputs": [
    {
     "name": "stdout",
     "output_type": "stream",
     "text": [
      "Downloading Data from Quandl API...\n"
     ]
    },
    {
     "name": "stderr",
     "output_type": "stream",
     "text": [
      "  3%|██▌                                                                              | 16/505 [00:28<14:40,  1.80s/it]"
     ]
    }
   ],
   "source": [
    "crawler.download_data()"
   ]
  }
 ],
 "metadata": {
  "kernelspec": {
   "display_name": "Python 3",
   "language": "python",
   "name": "python3"
  },
  "language_info": {
   "codemirror_mode": {
    "name": "ipython",
    "version": 3
   },
   "file_extension": ".py",
   "mimetype": "text/x-python",
   "name": "python",
   "nbconvert_exporter": "python",
   "pygments_lexer": "ipython3",
   "version": "3.6.3"
  }
 },
 "nbformat": 4,
 "nbformat_minor": 2
}
