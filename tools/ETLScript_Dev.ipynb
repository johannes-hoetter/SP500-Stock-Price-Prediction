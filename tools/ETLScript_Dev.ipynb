{
 "cells": [
  {
   "cell_type": "markdown",
   "metadata": {},
   "source": [
    "# **E T L **"
   ]
  },
  {
   "cell_type": "markdown",
   "metadata": {},
   "source": [
    "### Version 1.0"
   ]
  },
  {
   "cell_type": "markdown",
   "metadata": {},
   "source": [
    "---"
   ]
  },
  {
   "cell_type": "code",
   "execution_count": null,
   "metadata": {},
   "outputs": [],
   "source": [
    "import pandas as pd\n",
    "import numpy as np\n",
    "import os\n",
    "from tqdm import tqdm\n",
    "\n",
    "# Custom Modules\n",
    "from crawler import StockDataCrawler\n",
    "from converter import DataConverter\n",
    "from data_handler import DataHandler"
   ]
  },
  {
   "cell_type": "code",
   "execution_count": null,
   "metadata": {},
   "outputs": [],
   "source": [
    "def full_etl(crawler, converter, data_handler, data_dir='../data'):\n",
    "    dl_dir = '{}/raw'.format(data_dir)\n",
    "    ml_dir = '{}/ml_format'.format(data_dir)\n",
    "    crawler.download_data(directory=dl_dir)\n",
    "    print(\"Start Conversion of Data...\")\n",
    "    for file in tqdm(os.listdir(dl_dir)):\n",
    "        csv_file = os.path.join(dl_dir, file)\n",
    "        symbol = csv_file[12:-4] # get the symbol of '../data/raw\\{}.csv', where {} is the symbol\n",
    "        try:\n",
    "            # get a dataframe from the csv file and convert it into the target shape\n",
    "            df = pd.read_csv(csv_file)\n",
    "            df = converter.convert_df(df)\n",
    "            df = converter.fill_targets(df)\n",
    "\n",
    "            # scales the values and prepares them for machine learning\n",
    "            # X and y are numpy arrays which get saved as npz files\n",
    "            X, y = converter.convert_ml_format(df, symbol)\n",
    "\n",
    "            # save the dataframe as a table in the DataFrames.db\n",
    "            data_handler.save_to_db(df, symbol) # will save the data in data/cleaned \n",
    "\n",
    "            # save the arrays\n",
    "            data_handler.save_to_npz(X, y, symbol, save_dir=ml_dir)\n",
    "        except:\n",
    "            continue\n",
    "    crawler.serialize()\n",
    "    converter.serialize()\n",
    "    data_handler.serialize()\n",
    "\n",
    "def get_sp500_data():\n",
    "    sp500_data = pd.read_html('https://en.wikipedia.org/wiki/List_of_S%26P_500_companies')[0]\n",
    "    convert_first_row_as_header(sp500_data)\n",
    "    return sp500_data    \n",
    "    \n",
    "def convert_first_row_as_header(df):\n",
    "    df.columns = df.iloc[0]\n",
    "    df.drop(0, axis=0, inplace=True)"
   ]
  },
  {
   "cell_type": "code",
   "execution_count": null,
   "metadata": {},
   "outputs": [],
   "source": [
    "sp500_data = get_sp500_data()"
   ]
  },
  {
   "cell_type": "code",
   "execution_count": null,
   "metadata": {},
   "outputs": [],
   "source": [
    "crawler = StockDataCrawler(sp500_data)\n",
    "converter = DataConverter()\n",
    "data_handler = DataHandler()"
   ]
  },
  {
   "cell_type": "code",
   "execution_count": null,
   "metadata": {},
   "outputs": [],
   "source": [
    "full_etl(crawler, converter, data_handler)"
   ]
  }
 ],
 "metadata": {
  "kernelspec": {
   "display_name": "Python 3",
   "language": "python",
   "name": "python3"
  },
  "language_info": {
   "codemirror_mode": {
    "name": "ipython",
    "version": 3
   },
   "file_extension": ".py",
   "mimetype": "text/x-python",
   "name": "python",
   "nbconvert_exporter": "python",
   "pygments_lexer": "ipython3",
   "version": "3.6.3"
  }
 },
 "nbformat": 4,
 "nbformat_minor": 2
}
