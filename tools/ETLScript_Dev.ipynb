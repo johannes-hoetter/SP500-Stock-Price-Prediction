{
 "cells": [
  {
   "cell_type": "markdown",
   "metadata": {},
   "source": [
    "# **E T L **"
   ]
  },
  {
   "cell_type": "markdown",
   "metadata": {},
   "source": [
    "### Version 1.0"
   ]
  },
  {
   "cell_type": "markdown",
   "metadata": {},
   "source": [
    "---"
   ]
  },
  {
   "cell_type": "code",
   "execution_count": 1,
   "metadata": {},
   "outputs": [],
   "source": [
    "import pandas as pd\n",
    "import numpy as np\n",
    "import os\n",
    "from converter import DataConverter\n",
    "from tqdm import tqdm\n",
    "from sqlalchemy import create_engine"
   ]
  },
  {
   "cell_type": "code",
   "execution_count": 2,
   "metadata": {},
   "outputs": [
    {
     "name": "stderr",
     "output_type": "stream",
     "text": [
      "100%|████████████████████████████████████████████████████████████████████████████████| 506/506 [02:42<00:00,  4.00it/s]\n"
     ]
    }
   ],
   "source": [
    "converter = DataConverter() # does conversion etc.\n",
    "engine = create_engine('sqlite:///..//data/cleaned/DataFrames.db') # do not push to github repository as this will have a size > 100 MB!\n",
    "data_dir = '../data/raw' # csv files\n",
    "for file in tqdm(os.listdir(data_dir)): # tqdm -> progressbar\n",
    "    if file.endswith(\".csv\"):\n",
    "        csv_file = os.path.join(data_dir, file)\n",
    "        symbol = csv_file[12:-4] # get the symbol of '../data/raw\\{}.csv', where {} is the symbol\n",
    "        \n",
    "        try:\n",
    "            # get a dataframe from the csv file and convert it into the target shape\n",
    "            df = pd.read_csv(csv_file)\n",
    "            df = converter.convert_df(df)\n",
    "            df = converter.fill_targets(df)\n",
    "\n",
    "            # scales the values and prepares them for machine learning\n",
    "            # X and y are numpy arrays which get saved as npz files\n",
    "            X, y = converter.convert_ml_format(df, symbol)\n",
    "\n",
    "            # save the dataframe as a table in the DataFrames.db\n",
    "            df.to_sql(symbol, engine, index=False, if_exists='replace')\n",
    "\n",
    "            # save the arrays\n",
    "            np.savez('../data/ml_format/{}.npz'.format(symbol), X=X, y=y)\n",
    "        except:\n",
    "            continue"
   ]
  },
  {
   "cell_type": "code",
   "execution_count": 3,
   "metadata": {},
   "outputs": [],
   "source": [
    "#with np.load('../data/ml_format/A.npz') as data:\n",
    "#    X = data['X']\n",
    "#    y = data['y']"
   ]
  }
 ],
 "metadata": {
  "kernelspec": {
   "display_name": "Python 3",
   "language": "python",
   "name": "python3"
  },
  "language_info": {
   "codemirror_mode": {
    "name": "ipython",
    "version": 3
   },
   "file_extension": ".py",
   "mimetype": "text/x-python",
   "name": "python",
   "nbconvert_exporter": "python",
   "pygments_lexer": "ipython3",
   "version": "3.6.3"
  }
 },
 "nbformat": 4,
 "nbformat_minor": 2
}
