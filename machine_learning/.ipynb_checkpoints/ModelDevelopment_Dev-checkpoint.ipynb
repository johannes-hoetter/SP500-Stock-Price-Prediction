{
 "cells": [
  {
   "cell_type": "markdown",
   "metadata": {},
   "source": [
    "# **M**achine **L**earning"
   ]
  },
  {
   "cell_type": "markdown",
   "metadata": {},
   "source": [
    "### Version 1.0"
   ]
  },
  {
   "cell_type": "markdown",
   "metadata": {},
   "source": [
    "---"
   ]
  },
  {
   "cell_type": "markdown",
   "metadata": {},
   "source": [
    "### Imports"
   ]
  },
  {
   "cell_type": "code",
   "execution_count": 1,
   "metadata": {},
   "outputs": [],
   "source": [
    "# needed to import parent folders\n",
    "import sys\n",
    "sys.path.append(\"../\")"
   ]
  },
  {
   "cell_type": "code",
   "execution_count": 2,
   "metadata": {},
   "outputs": [],
   "source": [
    "# Custom Modules\n",
    "from tools.data_handler import DataHandler\n",
    "from ml_tools import DataWrapper\n",
    "from neuralnet import NeuralNetwork"
   ]
  },
  {
   "cell_type": "code",
   "execution_count": 3,
   "metadata": {},
   "outputs": [],
   "source": [
    "import torch\n",
    "from torch import optim\n",
    "from torch import nn"
   ]
  },
  {
   "cell_type": "code",
   "execution_count": 4,
   "metadata": {},
   "outputs": [],
   "source": [
    "device = torch.device('cuda:0' if torch.cuda.is_available() else 'cpu')"
   ]
  },
  {
   "cell_type": "markdown",
   "metadata": {},
   "source": [
    "### Data"
   ]
  },
  {
   "cell_type": "code",
   "execution_count": 5,
   "metadata": {},
   "outputs": [],
   "source": [
    "data_handler = DataHandler()\n",
    "data_handler.initialize(path='../tools/serialized_tool_objects/datahandler.p')\n",
    "data = {}\n",
    "for symbol in data_handler.symbols:\n",
    "    X, y = data_handler.load_from_npz(symbol)\n",
    "    data_wrapper = DataWrapper(X, y)\n",
    "    data_loader = data_wrapper.get_dataloader(train_batch_size=32) # default train/test size of 0.75 to 0.25\n",
    "    data[symbol] = data_loader"
   ]
  },
  {
   "cell_type": "markdown",
   "metadata": {},
   "source": [
    "### Neural Network"
   ]
  },
  {
   "cell_type": "code",
   "execution_count": 6,
   "metadata": {},
   "outputs": [
    {
     "name": "stdout",
     "output_type": "stream",
     "text": [
      "The model has 15 input nodes\n"
     ]
    }
   ],
   "source": [
    "alpha = 0.001 # Learning Rate\n",
    "num_epochs = 10\n",
    "print_every = 100\n",
    "dropout_prob = 0.3\n",
    "num_inputs = data_wrapper.shape[1]\n",
    "print(\"The model has {} input nodes\".format(num_inputs))"
   ]
  },
  {
   "cell_type": "code",
   "execution_count": 7,
   "metadata": {},
   "outputs": [],
   "source": [
    "model = NeuralNetwork(num_inputs, drop_p=dropout_prob)\n",
    "model = model.to(device)\n",
    "\n",
    "criterion = nn.MSELoss()\n",
    "optimizer = optim.Adam(model.parameters(), lr=alpha)"
   ]
  },
  {
   "cell_type": "code",
   "execution_count": 8,
   "metadata": {},
   "outputs": [
    {
     "name": "stdout",
     "output_type": "stream",
     "text": [
      "Start Training...\n",
      "Train Epoch: 1/10 [0/3488 (0%)] .. Train RMSE: 32.65 .. Test RMSE: 31.60 .. Checkpoint: X\n",
      "Train Epoch: 1/10 [3200/3488 (92%)] .. Train RMSE: 19.27 .. Test RMSE: 17.72 .. Checkpoint: X\n",
      "Train Epoch: 2/10 [0/3488 (0%)] .. Train RMSE: 19.06 .. Test RMSE: 14.00 .. Checkpoint: X\n",
      "Train Epoch: 2/10 [3200/3488 (92%)] .. Train RMSE: 3.94 .. Test RMSE: 5.55 .. Checkpoint: X\n",
      "Train Epoch: 3/10 [0/3488 (0%)] .. Train RMSE: 5.77 .. Test RMSE: 6.01 .. Checkpoint: \n",
      "Train Epoch: 3/10 [3200/3488 (92%)] .. Train RMSE: 3.24 .. Test RMSE: 5.16 .. Checkpoint: X\n",
      "Train Epoch: 4/10 [0/3488 (0%)] .. Train RMSE: 4.21 .. Test RMSE: 4.92 .. Checkpoint: X\n",
      "Train Epoch: 4/10 [3200/3488 (92%)] .. Train RMSE: 7.86 .. Test RMSE: 5.20 .. Checkpoint: \n",
      "Train Epoch: 5/10 [0/3488 (0%)] .. Train RMSE: 4.21 .. Test RMSE: 5.47 .. Checkpoint: \n",
      "Train Epoch: 5/10 [3200/3488 (92%)] .. Train RMSE: 5.28 .. Test RMSE: 5.24 .. Checkpoint: \n",
      "Train Epoch: 6/10 [0/3488 (0%)] .. Train RMSE: 4.41 .. Test RMSE: 4.62 .. Checkpoint: X\n",
      "Train Epoch: 6/10 [3200/3488 (92%)] .. Train RMSE: 5.00 .. Test RMSE: 4.64 .. Checkpoint: \n",
      "Train Epoch: 7/10 [0/3488 (0%)] .. Train RMSE: 4.49 .. Test RMSE: 4.65 .. Checkpoint: \n",
      "Train Epoch: 7/10 [3200/3488 (92%)] .. Train RMSE: 4.10 .. Test RMSE: 4.85 .. Checkpoint: \n",
      "Train Epoch: 8/10 [0/3488 (0%)] .. Train RMSE: 5.78 .. Test RMSE: 5.61 .. Checkpoint: \n",
      "Train Epoch: 8/10 [3200/3488 (92%)] .. Train RMSE: 6.66 .. Test RMSE: 5.06 .. Checkpoint: \n",
      "Train Epoch: 9/10 [0/3488 (0%)] .. Train RMSE: 3.77 .. Test RMSE: 4.79 .. Checkpoint: \n",
      "Train Epoch: 9/10 [3200/3488 (92%)] .. Train RMSE: 5.47 .. Test RMSE: 4.82 .. Checkpoint: \n",
      "Train Epoch: 10/10 [0/3488 (0%)] .. Train RMSE: 2.97 .. Test RMSE: 4.73 .. Checkpoint: \n",
      "Train Epoch: 10/10 [3200/3488 (92%)] .. Train RMSE: 3.24 .. Test RMSE: 4.49 .. Checkpoint: X\n",
      "Time needed for Training: 6.42\n",
      "Finished Training!\n"
     ]
    }
   ],
   "source": [
    "for symbol, dataloader in data.items():\n",
    "    model.fit(dataloader, symbol, optimizer, criterion, num_epochs, print_every=print_every)\n",
    "    break"
   ]
  }
 ],
 "metadata": {
  "kernelspec": {
   "display_name": "Python 3",
   "language": "python",
   "name": "python3"
  },
  "language_info": {
   "codemirror_mode": {
    "name": "ipython",
    "version": 3
   },
   "file_extension": ".py",
   "mimetype": "text/x-python",
   "name": "python",
   "nbconvert_exporter": "python",
   "pygments_lexer": "ipython3",
   "version": "3.6.3"
  }
 },
 "nbformat": 4,
 "nbformat_minor": 2
}
