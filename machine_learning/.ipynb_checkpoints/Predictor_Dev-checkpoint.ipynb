{
 "cells": [
  {
   "cell_type": "code",
   "execution_count": 1,
   "metadata": {},
   "outputs": [],
   "source": [
    "import pandas as pd\n",
    "import os\n",
    "import datetime"
   ]
  },
  {
   "cell_type": "code",
   "execution_count": 2,
   "metadata": {},
   "outputs": [
    {
     "name": "stderr",
     "output_type": "stream",
     "text": [
      "/Users/leihsystem5/anaconda3/lib/python3.7/site-packages/sklearn/ensemble/weight_boosting.py:29: DeprecationWarning: numpy.core.umath_tests is an internal NumPy module and should not be imported. It will be removed in a future NumPy release.\n",
      "  from numpy.core.umath_tests import inner1d\n"
     ]
    }
   ],
   "source": [
    "from sklearn.ensemble import AdaBoostRegressor"
   ]
  },
  {
   "cell_type": "code",
   "execution_count": 3,
   "metadata": {},
   "outputs": [
    {
     "name": "stdout",
     "output_type": "stream",
     "text": [
      "../data/MMM.csv\n"
     ]
    }
   ],
   "source": [
    "data_dir = '../data'\n",
    "for file in os.listdir(data_dir):\n",
    "    if file.endswith(\".csv\"):\n",
    "        csv_file = os.path.join(data_dir, file)\n",
    "        \n",
    "        # train a model and save it in directory \"models\"\n",
    "        # will later on be used in an ensemble predictor\n",
    "        print(csv_file)"
   ]
  },
  {
   "cell_type": "markdown",
   "metadata": {},
   "source": [
    "wird ausgetauscht gegen DataCleaner"
   ]
  },
  {
   "cell_type": "code",
   "execution_count": 4,
   "metadata": {},
   "outputs": [],
   "source": [
    "df = pd.read_csv('../data/MMM.csv')\n",
    "\n",
    "df.columns = [col.replace(' ', '_') for col in df.columns]\n",
    "\n",
    "df['Date'] = df['Date'].apply(lambda x: datetime.datetime.strptime(x, '%Y-%m-%d'))\n",
    "df['Year'] = df['Date'].apply(lambda x: x.year)\n",
    "df['Month'] = df['Date'].apply(lambda x: x.month)\n",
    "df['Day'] = df['Date'].apply(lambda x: x.day)\n",
    "df.drop('Date', axis=1, inplace=True)"
   ]
  },
  {
   "cell_type": "code",
   "execution_count": 5,
   "metadata": {},
   "outputs": [
    {
     "data": {
      "text/html": [
       "<div>\n",
       "<style scoped>\n",
       "    .dataframe tbody tr th:only-of-type {\n",
       "        vertical-align: middle;\n",
       "    }\n",
       "\n",
       "    .dataframe tbody tr th {\n",
       "        vertical-align: top;\n",
       "    }\n",
       "\n",
       "    .dataframe thead th {\n",
       "        text-align: right;\n",
       "    }\n",
       "</style>\n",
       "<table border=\"1\" class=\"dataframe\">\n",
       "  <thead>\n",
       "    <tr style=\"text-align: right;\">\n",
       "      <th></th>\n",
       "      <th>Open</th>\n",
       "      <th>High</th>\n",
       "      <th>Low</th>\n",
       "      <th>Close</th>\n",
       "      <th>Volume</th>\n",
       "      <th>Ex-Dividend</th>\n",
       "      <th>Split_Ratio</th>\n",
       "      <th>Adj._Open</th>\n",
       "      <th>Adj._High</th>\n",
       "      <th>Adj._Low</th>\n",
       "      <th>Adj._Close</th>\n",
       "      <th>Adj._Volume</th>\n",
       "      <th>Year</th>\n",
       "      <th>Month</th>\n",
       "      <th>Day</th>\n",
       "    </tr>\n",
       "  </thead>\n",
       "  <tbody>\n",
       "    <tr>\n",
       "      <th>0</th>\n",
       "      <td>231.22</td>\n",
       "      <td>236.22</td>\n",
       "      <td>230.59</td>\n",
       "      <td>235.57</td>\n",
       "      <td>2213792.0</td>\n",
       "      <td>0.0</td>\n",
       "      <td>1.0</td>\n",
       "      <td>231.22</td>\n",
       "      <td>236.22</td>\n",
       "      <td>230.59</td>\n",
       "      <td>235.57</td>\n",
       "      <td>2213792.0</td>\n",
       "      <td>2018</td>\n",
       "      <td>3</td>\n",
       "      <td>7</td>\n",
       "    </tr>\n",
       "    <tr>\n",
       "      <th>1</th>\n",
       "      <td>234.05</td>\n",
       "      <td>235.92</td>\n",
       "      <td>230.80</td>\n",
       "      <td>233.66</td>\n",
       "      <td>2089047.0</td>\n",
       "      <td>0.0</td>\n",
       "      <td>1.0</td>\n",
       "      <td>234.05</td>\n",
       "      <td>235.92</td>\n",
       "      <td>230.80</td>\n",
       "      <td>233.66</td>\n",
       "      <td>2089047.0</td>\n",
       "      <td>2018</td>\n",
       "      <td>3</td>\n",
       "      <td>6</td>\n",
       "    </tr>\n",
       "    <tr>\n",
       "      <th>2</th>\n",
       "      <td>230.00</td>\n",
       "      <td>233.71</td>\n",
       "      <td>228.53</td>\n",
       "      <td>232.81</td>\n",
       "      <td>2235348.0</td>\n",
       "      <td>0.0</td>\n",
       "      <td>1.0</td>\n",
       "      <td>230.00</td>\n",
       "      <td>233.71</td>\n",
       "      <td>228.53</td>\n",
       "      <td>232.81</td>\n",
       "      <td>2235348.0</td>\n",
       "      <td>2018</td>\n",
       "      <td>3</td>\n",
       "      <td>5</td>\n",
       "    </tr>\n",
       "    <tr>\n",
       "      <th>3</th>\n",
       "      <td>229.75</td>\n",
       "      <td>231.27</td>\n",
       "      <td>226.33</td>\n",
       "      <td>230.37</td>\n",
       "      <td>2912828.0</td>\n",
       "      <td>0.0</td>\n",
       "      <td>1.0</td>\n",
       "      <td>229.75</td>\n",
       "      <td>231.27</td>\n",
       "      <td>226.33</td>\n",
       "      <td>230.37</td>\n",
       "      <td>2912828.0</td>\n",
       "      <td>2018</td>\n",
       "      <td>3</td>\n",
       "      <td>2</td>\n",
       "    </tr>\n",
       "    <tr>\n",
       "      <th>4</th>\n",
       "      <td>236.15</td>\n",
       "      <td>236.83</td>\n",
       "      <td>229.53</td>\n",
       "      <td>231.34</td>\n",
       "      <td>3487126.0</td>\n",
       "      <td>0.0</td>\n",
       "      <td>1.0</td>\n",
       "      <td>236.15</td>\n",
       "      <td>236.83</td>\n",
       "      <td>229.53</td>\n",
       "      <td>231.34</td>\n",
       "      <td>3487126.0</td>\n",
       "      <td>2018</td>\n",
       "      <td>3</td>\n",
       "      <td>1</td>\n",
       "    </tr>\n",
       "  </tbody>\n",
       "</table>\n",
       "</div>"
      ],
      "text/plain": [
       "     Open    High     Low   Close     Volume  Ex-Dividend  Split_Ratio  \\\n",
       "0  231.22  236.22  230.59  235.57  2213792.0          0.0          1.0   \n",
       "1  234.05  235.92  230.80  233.66  2089047.0          0.0          1.0   \n",
       "2  230.00  233.71  228.53  232.81  2235348.0          0.0          1.0   \n",
       "3  229.75  231.27  226.33  230.37  2912828.0          0.0          1.0   \n",
       "4  236.15  236.83  229.53  231.34  3487126.0          0.0          1.0   \n",
       "\n",
       "   Adj._Open  Adj._High  Adj._Low  Adj._Close  Adj._Volume  Year  Month  Day  \n",
       "0     231.22     236.22    230.59      235.57    2213792.0  2018      3    7  \n",
       "1     234.05     235.92    230.80      233.66    2089047.0  2018      3    6  \n",
       "2     230.00     233.71    228.53      232.81    2235348.0  2018      3    5  \n",
       "3     229.75     231.27    226.33      230.37    2912828.0  2018      3    2  \n",
       "4     236.15     236.83    229.53      231.34    3487126.0  2018      3    1  "
      ]
     },
     "execution_count": 5,
     "metadata": {},
     "output_type": "execute_result"
    }
   ],
   "source": [
    "df.head()"
   ]
  },
  {
   "cell_type": "code",
   "execution_count": 6,
   "metadata": {},
   "outputs": [],
   "source": [
    "adaboost = AdaBoostRegressor()"
   ]
  },
  {
   "cell_type": "markdown",
   "metadata": {},
   "source": [
    "Trainingsdaten"
   ]
  },
  {
   "cell_type": "code",
   "execution_count": 7,
   "metadata": {},
   "outputs": [],
   "source": [
    "target = 'Adj._Close'"
   ]
  },
  {
   "cell_type": "code",
   "execution_count": 8,
   "metadata": {},
   "outputs": [],
   "source": [
    "X = df.drop(target, axis=1).values\n",
    "y = df[target].values"
   ]
  },
  {
   "cell_type": "code",
   "execution_count": 12,
   "metadata": {},
   "outputs": [],
   "source": [
    "from sklearn.model_selection import train_test_split"
   ]
  },
  {
   "cell_type": "code",
   "execution_count": 13,
   "metadata": {},
   "outputs": [],
   "source": [
    "X_train, X_test, y_train, y_test = train_test_split(X, y, test_size=0.33, random_state=42)"
   ]
  },
  {
   "cell_type": "code",
   "execution_count": 14,
   "metadata": {},
   "outputs": [
    {
     "data": {
      "text/plain": [
       "AdaBoostRegressor(base_estimator=None, learning_rate=1.0, loss='linear',\n",
       "         n_estimators=50, random_state=None)"
      ]
     },
     "execution_count": 14,
     "metadata": {},
     "output_type": "execute_result"
    }
   ],
   "source": [
    "adaboost.fit(X_train, y_train)"
   ]
  },
  {
   "cell_type": "code",
   "execution_count": 15,
   "metadata": {},
   "outputs": [],
   "source": [
    "y_pred = adaboost.predict(X_test)"
   ]
  },
  {
   "cell_type": "code",
   "execution_count": 16,
   "metadata": {},
   "outputs": [
    {
     "data": {
      "text/plain": [
       "array([  8.81074874,   8.81074874,   8.81074874,   9.40014768,\n",
       "         8.81074874, 126.48295128, 131.27746859,  15.09982106,\n",
       "         8.81074874,   9.40014768])"
      ]
     },
     "execution_count": 16,
     "metadata": {},
     "output_type": "execute_result"
    }
   ],
   "source": [
    "y_pred[:10]"
   ]
  },
  {
   "cell_type": "code",
   "execution_count": 17,
   "metadata": {},
   "outputs": [
    {
     "data": {
      "text/plain": [
       "array([  4.72682255,   5.39445286,   3.19821621,  13.98784714,\n",
       "         2.9578693 , 124.16273484, 130.97135208,  20.94414141,\n",
       "         4.01913443,  14.48215316])"
      ]
     },
     "execution_count": 17,
     "metadata": {},
     "output_type": "execute_result"
    }
   ],
   "source": [
    "y_test[:10]"
   ]
  }
 ],
 "metadata": {
  "kernelspec": {
   "display_name": "Python 3",
   "language": "python",
   "name": "python3"
  },
  "language_info": {
   "codemirror_mode": {
    "name": "ipython",
    "version": 3
   },
   "file_extension": ".py",
   "mimetype": "text/x-python",
   "name": "python",
   "nbconvert_exporter": "python",
   "pygments_lexer": "ipython3",
   "version": "3.7.0"
  }
 },
 "nbformat": 4,
 "nbformat_minor": 2
}
