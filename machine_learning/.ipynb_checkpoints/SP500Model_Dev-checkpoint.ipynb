{
 "cells": [
  {
   "cell_type": "markdown",
   "metadata": {},
   "source": [
    "# SP500 Model"
   ]
  },
  {
   "cell_type": "markdown",
   "metadata": {},
   "source": [
    "### Version 1.0"
   ]
  },
  {
   "cell_type": "markdown",
   "metadata": {},
   "source": [
    "---"
   ]
  },
  {
   "cell_type": "code",
   "execution_count": 1,
   "metadata": {},
   "outputs": [],
   "source": [
    "# needed to import parent folders\n",
    "import sys\n",
    "sys.path.append(\"../\")\n",
    "import torch\n",
    "try:\n",
    "    import _pickle as pickle\n",
    "except:\n",
    "    import pickle"
   ]
  },
  {
   "cell_type": "code",
   "execution_count": 2,
   "metadata": {},
   "outputs": [],
   "source": [
    "from neuralnet import NeuralNetwork\n",
    "from tools.data_handler import DataHandler"
   ]
  },
  {
   "cell_type": "code",
   "execution_count": 3,
   "metadata": {},
   "outputs": [],
   "source": [
    "with open('stats/training_stats.p', 'rb') as stats_file:\n",
    "    statistics = pickle.load(stats_file)\n",
    "    \n",
    "data_handler = DataHandler()\n",
    "data_handler.initialize('../tools/serialized_tool_objects/datahandler.p')\n",
    "    \n",
    "class SP500Predictor:\n",
    "    \n",
    "    def __init__(self):\n",
    "        self.models = {}\n",
    "\n",
    "    \n",
    "    def activate(self, model_dir='models'):\n",
    "        for symbol in statistics.keys():\n",
    "            model = NeuralNetwork(15) # if features get added, this needs to change\n",
    "            try:\n",
    "                model.initialize('{}/{}_regressor.pth'.format(model_dir, symbol))\n",
    "                self.models[symbol] = model\n",
    "            except:\n",
    "                continue\n",
    "    \n",
    "    \n",
    "    def predict(self, *symbols):\n",
    "        predictions = {}\n",
    "        for symbol in symbols:\n",
    "            try:\n",
    "                x = self.get_todays_values(symbol)\n",
    "                pred = self.models[symbol].predict([x])\n",
    "                predictions[symbol] = pred\n",
    "            except:\n",
    "                continue\n",
    "        return predictions\n",
    "                \n",
    "        \n",
    "    def get_todays_values(self, symbol):\n",
    "        # needs to be changed sometime in the future into an optimized solution!\n",
    "        x, _ = data_handler.load_from_npz(symbol)\n",
    "        return x[-1]\n",
    "        "
   ]
  },
  {
   "cell_type": "code",
   "execution_count": 4,
   "metadata": {},
   "outputs": [],
   "source": [
    "sp500_predictor = SP500Predictor()\n",
    "sp500_predictor.activate()"
   ]
  },
  {
   "cell_type": "code",
   "execution_count": 5,
   "metadata": {},
   "outputs": [
    {
     "data": {
      "text/plain": [
       "{'AAPL': 155.0103759765625,\n",
       " 'AMZN': 1501.06396484375,\n",
       " 'GOOG': 1011.1766357421875}"
      ]
     },
     "execution_count": 5,
     "metadata": {},
     "output_type": "execute_result"
    }
   ],
   "source": [
    "sp500_predictor.predict('AAPL', 'GOOG', 'AMZN')"
   ]
  }
 ],
 "metadata": {
  "kernelspec": {
   "display_name": "Python 3",
   "language": "python",
   "name": "python3"
  },
  "language_info": {
   "codemirror_mode": {
    "name": "ipython",
    "version": 3
   },
   "file_extension": ".py",
   "mimetype": "text/x-python",
   "name": "python",
   "nbconvert_exporter": "python",
   "pygments_lexer": "ipython3",
   "version": "3.6.3"
  }
 },
 "nbformat": 4,
 "nbformat_minor": 2
}
