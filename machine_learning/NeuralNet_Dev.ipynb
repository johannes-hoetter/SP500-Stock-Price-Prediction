{
 "cells": [
  {
   "cell_type": "markdown",
   "metadata": {},
   "source": [
    "# Neural Network"
   ]
  },
  {
   "cell_type": "markdown",
   "metadata": {},
   "source": [
    "### Version 1.0"
   ]
  },
  {
   "cell_type": "markdown",
   "metadata": {},
   "source": [
    "---"
   ]
  },
  {
   "cell_type": "code",
   "execution_count": 1,
   "metadata": {},
   "outputs": [],
   "source": [
    "# needed to import parent folders\n",
    "import sys\n",
    "sys.path.append(\"../\")"
   ]
  },
  {
   "cell_type": "code",
   "execution_count": 2,
   "metadata": {},
   "outputs": [],
   "source": [
    "from tools.data_converter import DataConverter"
   ]
  },
  {
   "cell_type": "code",
   "execution_count": 3,
   "metadata": {},
   "outputs": [],
   "source": [
    "import torch\n",
    "from torch import nn\n",
    "import torch.nn.functional as F\n",
    "\n",
    "import numpy as np\n",
    "import pandas as pd\n",
    "import timeit"
   ]
  },
  {
   "cell_type": "code",
   "execution_count": 4,
   "metadata": {},
   "outputs": [],
   "source": [
    "class NeuralNetwork(nn.Module):\n",
    "        \n",
    "    def __init__(self, num_inputs, drop_p=0.1):\n",
    "        \n",
    "        super().__init__()\n",
    "        self.num_inputs = num_inputs\n",
    "        self.fc1 = nn.Linear(self.num_inputs, 128)\n",
    "        self.bn1 = nn.BatchNorm1d(128)\n",
    "        self.fc2 = nn.Linear(128, 64)\n",
    "        self.fc3 = nn.Linear(64, 1)\n",
    "        self.dropout = nn.Dropout(p=drop_p)\n",
    "        \n",
    "        self.device = torch.device('cuda:0' if torch.cuda.is_available() else 'cpu')\n",
    "        \n",
    "    def forward(self, x):\n",
    "        \n",
    "        # Input Layer\n",
    "        x = self.fc1(x)\n",
    "        x = self.bn1(F.relu(x))\n",
    "        x = self.dropout(x)\n",
    "        \n",
    "        # Hidden Layer\n",
    "        x = self.fc2(x)\n",
    "        x = self.dropout(x)\n",
    "        \n",
    "        # Output Layer\n",
    "        return self.fc3(x)\n",
    "    \n",
    "    \n",
    "    def fit(self, dataloader, symbol, optimizer, criterion, num_epochs, print_every=100, lr_decay=0.95, path='', eval=True, return_stats=True):\n",
    "        \n",
    "        # Default dir for saved models: 'models/'\n",
    "        if path == '':\n",
    "            path = 'models/{}_regressor.pth'.format(symbol)\n",
    "            \n",
    "        # Begin of Training (init screen, prepare variables etc.)    \n",
    "        print(\"----------------------------------------------------------------------------\")\n",
    "        print(\"|START TRAINING FOR SYMBOL: [{:>4}]                                         |\".format(symbol))\n",
    "        print(\"| TRAIN EPOCH | PROCESSED DATA      | TRAIN RMSE | TEST RMSE  | CHECKPOINT |\")\n",
    "        print(\"----------------------------------------------------------------------------\")\n",
    "        self.to(self.device) # cpu / gpu\n",
    "        self.train() # put model into train mode (dropout activated)\n",
    "        best_test_rmse = float('inf')\n",
    "        first_test_rmse = None # needed if training gets evaluated\n",
    "        start = timeit.default_timer()\n",
    "            \n",
    "        # Training Process\n",
    "        for epoch in range(num_epochs):\n",
    "            optimizer.param_groups[0]['lr'] *= lr_decay # adapt learning rate \n",
    "            for batch_idx, (inputs, targets) in enumerate(dataloader['train']):\n",
    "                if len(inputs) == 1: # exception handling (due to Batch Normalization)\n",
    "                    break # as the only possible case for this is at the end of the loop, we can stop the loop at all\n",
    "                inputs, targets = inputs.to(self.device).float() , targets.to(self.device).float()\n",
    "\n",
    "                # Update Weights\n",
    "                optimizer.zero_grad()\n",
    "                outputs = self(inputs)\n",
    "                outputs = outputs.view(outputs.numel())\n",
    "                rmse = torch.sqrt(criterion(outputs, targets))\n",
    "                rmse.backward()\n",
    "                optimizer.step()\n",
    "\n",
    "                # Print Logs & Test on testing data\n",
    "                if batch_idx % print_every == 0:\n",
    "                    test_rmse = self.validate(dataloader['test'], criterion)\n",
    "                    if first_test_rmse is None:\n",
    "                        first_test_rmse = test_rmse\n",
    "                    if test_rmse < best_test_rmse:\n",
    "                        best_test_rmse = test_rmse\n",
    "                        self.serialize(path) # save the model in the given directory\n",
    "                        is_checkpoint = 'X'\n",
    "                    else:\n",
    "                        is_checkpoint = ''\n",
    "                    print('| {:4}/{:4}   | {:6}/{:6} ({:2.0f}%) |  {:7.2f}   |  {:7.2f}   |     {:1}      |'.\n",
    "                          format(epoch + 1, \n",
    "                                 num_epochs, \n",
    "                                 batch_idx * len(inputs), \n",
    "                                 len(dataloader['train']) * dataloader['train'].batch_size,\n",
    "                                 100. * batch_idx / len(dataloader['train']), \n",
    "                                 rmse.item(),\n",
    "                                 test_rmse, \n",
    "                                 is_checkpoint))\n",
    "                    \n",
    "        # End of Training            \n",
    "        stop = timeit.default_timer()\n",
    "        seconds = round(stop - start)\n",
    "        self.eval() # put model into evaluation mode (no dropout)\n",
    "        \n",
    "        # print statistics\n",
    "        print(\"----------------------------------------------------------------------------\")\n",
    "        if eval:\n",
    "            print(\"|TIME NEEDED FOR TRAINING: {:5.0f} SEC.                                      |\".format(np.round(seconds,2)))\n",
    "            if best_test_rmse <= (first_test_rmse / 8): \n",
    "                # model has improved significantly (value 8 for division is arbitrary, seemed to be a good threshold while training)\n",
    "                print(\"|FINISHED TRAINING. MODEL HAS IMPROVED SIGNIFICANTLY.                      |\")\n",
    "                improved = True\n",
    "            else:\n",
    "                print(\"|FINISHED TRAINING. MODEL HAS NOT IMPROVED SIGNIFICANTLY.                  |\")\n",
    "                improved = False\n",
    "        else:\n",
    "            print(\"|FINISHED TRAINING.                                                        |\")\n",
    "        print(\"----------------------------------------------------------------------------\")\n",
    "        print()\n",
    "        if eval and return_stats:\n",
    "            return improved, first_test_rmse, best_test_rmse, seconds\n",
    "    \n",
    "   \n",
    "    def validate(self, testloader, criterion):\n",
    "        rmse = 0\n",
    "        accuracy = 0\n",
    "        n = len(testloader)\n",
    "        if n == 0:\n",
    "            return np.nan\n",
    "        with torch.no_grad():\n",
    "            for inputs, targets in testloader:\n",
    "                if len(inputs) == 1:\n",
    "                    n -= 1\n",
    "                    break\n",
    "                inputs, targets  = inputs.to(self.device).float(), targets.to(self.device).float() # gpu/cpu\n",
    "                outputs = self.forward(inputs)\n",
    "                outputs = outputs.view(outputs.numel()) # [32 x 1] -> [32]\n",
    "                rmse += torch.sqrt(criterion(outputs, targets)).item()\n",
    "        return rmse / n\n",
    "    \n",
    "    \n",
    "    def predict(self, x):\n",
    "        tensor = torch.from_numpy(np.array(x)).float()\n",
    "        tensor = tensor.to(self.device)\n",
    "        self.to(self.device)\n",
    "        output = self.forward(tensor).item()\n",
    "        return abs(output)\n",
    "\n",
    "    \n",
    "    def serialize(self, path):\n",
    "        state = {'state_dict': self.state_dict(),\n",
    "                 'num_inputs': self.num_inputs}\n",
    "        torch.save(state, path)\n",
    "    \n",
    "    \n",
    "    def initialize(self, path):\n",
    "        ckpt = torch.load(path)\n",
    "        self.num_inputs = ckpt['num_inputs']\n",
    "        self.load_state_dict(ckpt['state_dict'])\n",
    "        self.device = torch.device('cuda:0' if torch.cuda.is_available() else 'cpu')\n",
    "        self.to(self.device) # using the model on gpu/cpu\n",
    "        self.eval()"
   ]
  },
  {
   "cell_type": "markdown",
   "metadata": {},
   "source": [
    "---"
   ]
  },
  {
   "cell_type": "markdown",
   "metadata": {},
   "source": [
    "### Developed after model has been trained"
   ]
  },
  {
   "cell_type": "code",
   "execution_count": 5,
   "metadata": {},
   "outputs": [],
   "source": [
    "model = NeuralNetwork(15)\n",
    "model.initialize('models/AWK_regressor.pth')"
   ]
  },
  {
   "cell_type": "code",
   "execution_count": 6,
   "metadata": {},
   "outputs": [],
   "source": [
    "data_converter = DataConverter()\n",
    "data_converter.initialize('../tools/serialized_tool_objects/dataconverter.p')"
   ]
  },
  {
   "cell_type": "code",
   "execution_count": 7,
   "metadata": {},
   "outputs": [],
   "source": [
    "# Example\n",
    "x = {\n",
    "    'Open': 20.6,\n",
    "    'High': 21.45,\n",
    "    'Low': 20.22,\n",
    "    'Close': 20.6,\n",
    "    'Volume': 23402800.0,\n",
    "    'Ex-Dividend': 0.0,\n",
    "    'Split_Ratio': 1.0,\n",
    "    'Adj._Open': 15.624619538007,\n",
    "    'Adj._High': 16.269324713118998,\n",
    "    'Adj._Low': 15.336398400897998,\n",
    "    'Adj._Close': 15.624619538007,    \n",
    "    'Adj._Volume': 23402800.0,\n",
    "    'Year': 2008.0,\n",
    "    'Month': 4.0,\n",
    "    'Day': 23.0\n",
    "}"
   ]
  },
  {
   "cell_type": "code",
   "execution_count": 8,
   "metadata": {},
   "outputs": [
    {
     "data": {
      "text/plain": [
       "13.810538291931152"
      ]
     },
     "execution_count": 8,
     "metadata": {},
     "output_type": "execute_result"
    }
   ],
   "source": [
    "model.predict(data_converter.convert_x(x, 'AWK'))"
   ]
  }
 ],
 "metadata": {
  "kernelspec": {
   "display_name": "Python 3",
   "language": "python",
   "name": "python3"
  },
  "language_info": {
   "codemirror_mode": {
    "name": "ipython",
    "version": 3
   },
   "file_extension": ".py",
   "mimetype": "text/x-python",
   "name": "python",
   "nbconvert_exporter": "python",
   "pygments_lexer": "ipython3",
   "version": "3.6.3"
  }
 },
 "nbformat": 4,
 "nbformat_minor": 2
}
